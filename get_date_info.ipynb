{
 "cells": [
  {
   "cell_type": "code",
   "execution_count": 1,
   "source": [
    "import datetime\n",
    "import my_util\n",
    "import pandas\n",
    "import openpyxl"
   ],
   "outputs": [],
   "metadata": {}
  },
  {
   "cell_type": "code",
   "execution_count": 2,
   "source": [
    "file_path = '../output/sales_management.xlsx'\n",
    "datetime_date = my_util.get_datetime(\"8/11\")\n",
    "just_date = datetime_date.date()\n",
    "just_date"
   ],
   "outputs": [
    {
     "output_type": "execute_result",
     "data": {
      "text/plain": [
       "datetime.date(2021, 8, 11)"
      ]
     },
     "metadata": {},
     "execution_count": 2
    }
   ],
   "metadata": {}
  },
  {
   "cell_type": "code",
   "execution_count": 4,
   "source": [
    "#dataframe\n",
    "cols = ['日付', '弁当名', '搬入個数', '販売価格', '販売個数', '売上']\n",
    "dataframe = pandas.DataFrame(index=[], columns=cols)\n",
    "\n",
    "#エクセルファイル指定\n",
    "workbook = openpyxl.load_workbook(file_path, data_only=True)\n",
    "#ワークシート指定\n",
    "sheet = workbook['販売個数']\n",
    "#最大行\n",
    "maxRow = sheet.max_row + 1\n",
    "\n",
    "#エクセルのデータをdataframeへ挿入\n",
    "col_date = 2\n",
    "col_menu_name = 6\n",
    "col_menu_quantity = 7\n",
    "col_sell_value = 8\n",
    "col_sell_quantity = 18\n",
    "col_total_sell = 23\n",
    "for index in range(1, maxRow):\n",
    "    if sheet.cell(row=index, column=col_date).value == datetime_date:\n",
    "        dataframe.loc[index, '弁当名'] = sheet.cell(index,\n",
    "                                                    col_menu_name).value\n",
    "        dataframe.loc[index, '搬入個数'] = sheet.cell(index,\n",
    "                                                    col_menu_quantity).value\n",
    "        dataframe.loc[index, '販売価格'] = sheet.cell(index,\n",
    "                                                    col_sell_value).value\n",
    "        index = index + 1\n",
    "dataframe"
   ],
   "outputs": [
    {
     "output_type": "execute_result",
     "data": {
      "text/plain": [
       "      日付          弁当名 搬入個数 販売価格 販売個数   売上\n",
       "382  NaN     DXトンカツ弁当    5  650  NaN  NaN\n",
       "383  NaN       ガパオライス    4  550  NaN  NaN\n",
       "384  NaN  ゴーヤチャンプルー弁当    4  550  NaN  NaN\n",
       "385  NaN    台湾風カラアゲ弁当    4  550  NaN  NaN\n",
       "386  NaN      シャケカラ弁当    2  550  NaN  NaN\n",
       "387  NaN       サバカラ弁当    2  550  NaN  NaN\n",
       "388  NaN  春巻き&メンチカツ弁当    5  550  NaN  NaN"
      ],
      "text/html": [
       "<div>\n",
       "<style scoped>\n",
       "    .dataframe tbody tr th:only-of-type {\n",
       "        vertical-align: middle;\n",
       "    }\n",
       "\n",
       "    .dataframe tbody tr th {\n",
       "        vertical-align: top;\n",
       "    }\n",
       "\n",
       "    .dataframe thead th {\n",
       "        text-align: right;\n",
       "    }\n",
       "</style>\n",
       "<table border=\"1\" class=\"dataframe\">\n",
       "  <thead>\n",
       "    <tr style=\"text-align: right;\">\n",
       "      <th></th>\n",
       "      <th>日付</th>\n",
       "      <th>弁当名</th>\n",
       "      <th>搬入個数</th>\n",
       "      <th>販売価格</th>\n",
       "      <th>販売個数</th>\n",
       "      <th>売上</th>\n",
       "    </tr>\n",
       "  </thead>\n",
       "  <tbody>\n",
       "    <tr>\n",
       "      <th>382</th>\n",
       "      <td>NaN</td>\n",
       "      <td>DXトンカツ弁当</td>\n",
       "      <td>5</td>\n",
       "      <td>650</td>\n",
       "      <td>NaN</td>\n",
       "      <td>NaN</td>\n",
       "    </tr>\n",
       "    <tr>\n",
       "      <th>383</th>\n",
       "      <td>NaN</td>\n",
       "      <td>ガパオライス</td>\n",
       "      <td>4</td>\n",
       "      <td>550</td>\n",
       "      <td>NaN</td>\n",
       "      <td>NaN</td>\n",
       "    </tr>\n",
       "    <tr>\n",
       "      <th>384</th>\n",
       "      <td>NaN</td>\n",
       "      <td>ゴーヤチャンプルー弁当</td>\n",
       "      <td>4</td>\n",
       "      <td>550</td>\n",
       "      <td>NaN</td>\n",
       "      <td>NaN</td>\n",
       "    </tr>\n",
       "    <tr>\n",
       "      <th>385</th>\n",
       "      <td>NaN</td>\n",
       "      <td>台湾風カラアゲ弁当</td>\n",
       "      <td>4</td>\n",
       "      <td>550</td>\n",
       "      <td>NaN</td>\n",
       "      <td>NaN</td>\n",
       "    </tr>\n",
       "    <tr>\n",
       "      <th>386</th>\n",
       "      <td>NaN</td>\n",
       "      <td>シャケカラ弁当</td>\n",
       "      <td>2</td>\n",
       "      <td>550</td>\n",
       "      <td>NaN</td>\n",
       "      <td>NaN</td>\n",
       "    </tr>\n",
       "    <tr>\n",
       "      <th>387</th>\n",
       "      <td>NaN</td>\n",
       "      <td>サバカラ弁当</td>\n",
       "      <td>2</td>\n",
       "      <td>550</td>\n",
       "      <td>NaN</td>\n",
       "      <td>NaN</td>\n",
       "    </tr>\n",
       "    <tr>\n",
       "      <th>388</th>\n",
       "      <td>NaN</td>\n",
       "      <td>春巻き&amp;メンチカツ弁当</td>\n",
       "      <td>5</td>\n",
       "      <td>550</td>\n",
       "      <td>NaN</td>\n",
       "      <td>NaN</td>\n",
       "    </tr>\n",
       "  </tbody>\n",
       "</table>\n",
       "</div>"
      ]
     },
     "metadata": {},
     "execution_count": 4
    }
   ],
   "metadata": {}
  }
 ],
 "metadata": {
  "language_info": {
   "name": "python",
   "version": "3.9.6",
   "mimetype": "text/x-python",
   "codemirror_mode": {
    "name": "ipython",
    "version": 3
   },
   "pygments_lexer": "ipython3",
   "nbconvert_exporter": "python",
   "file_extension": ".py"
  },
  "kernelspec": {
   "name": "python3",
   "display_name": "Python 3.9.6 64-bit"
  },
  "interpreter": {
   "hash": "aee8b7b246df8f9039afb4144a1f6fd8d2ca17a180786b69acc140d282b71a49"
  }
 },
 "nbformat": 4,
 "nbformat_minor": 5
}