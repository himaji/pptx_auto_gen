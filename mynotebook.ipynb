{
 "cells": [
  {
   "cell_type": "code",
   "execution_count": null,
   "source": [
    "# import tkinter as tk\n",
    "# import tkinter.ttk as ttk\n",
    "# import sells_report_auto_gen\n",
    "from openpyxl import load_workbook\n",
    "import pandas as pd\n",
    "import datetime as dt\n",
    "# import openpyxl\n",
    "import docx\n",
    "from docx import Document\n",
    "from docx.shared import Inches\n",
    "from docx.enum.text import WD_ALIGN_PARAGRAPH\n",
    "from docx.shared import Mm"
   ],
   "outputs": [],
   "metadata": {}
  },
  {
   "cell_type": "code",
   "execution_count": null,
   "source": [
    "# ワークブックを読み込む\n",
    "# wb = load_workbook('../output/sales_management.xlsx')\n",
    "# no_headerシートにアクセスする\n",
    "# ws = wb['販売個数']\n",
    "\n",
    "# value値をDataFrameに変換\n",
    "# df_sales_management = pd.DataFrame(ws.values)\n",
    "\n",
    "df_sales_management = pd.read_excel(\"../output/sales_management.xlsx\", sheet_name=\"販売個数\", header=0, index_col=None)\n",
    "# df_menu_master = pd.read_excel(\"../output/sales_management.xlsx\", sheet_name=\"弁当名マスタ\", header=0, index_col=None)\n",
    "df_sales_management\n",
    "# colname_list = [\"日付\", \"販売価格\", \"弁当名等\", \"搬入個数\", \"販売個数\"]\n",
    "# df_formated = df_sales_management[colname_list]\n",
    "# df_formated"
   ],
   "outputs": [],
   "metadata": {}
  },
  {
   "cell_type": "code",
   "execution_count": null,
   "source": [
    "date = '2021-08-11'\n",
    "keyword = dt.datetime.strptime(date, '%Y-%m-%d')\n",
    "\n",
    "df_sales_management = pd.read_excel(\"../output/sales_management.xlsx\", sheet_name=\"販売個数\", header=0, index_col=None)\n",
    "colname_list = [\"日付\", \"販売価格\", \"弁当名等\", \"搬入個数\", \"販売個数\"]  # 結果に表示させる列名\n",
    "width_list = [100, 200, 50]\n",
    "search_col = \"日付\"  # 検索キーワードの入力されている列名\n",
    "\n",
    "df_menu_master = pd.read_excel(\"../output/sales_management.xlsx\", sheet_name=\"弁当名マスタ\", header=0, index_col=None)\n",
    "\n",
    "df_sales_management.loc[df_sales_management['弁当名等']==\"50円引きクーポン利用\", ['販売価格']] =  df_sales_management['割引等単価']\n",
    "df_sales_management.loc[df_sales_management['弁当名等']==\"50円引きクーポン利用\", ['販売個数']] =  df_sales_management['クーポン利用']\n",
    "\n",
    "df_formated = df_sales_management[colname_list]\n",
    "df_formated = df_formated[df_formated[\"日付\"] == date]\n",
    "array = []\n",
    "for value, sales_quantity in zip(df_formated[\"販売価格\"], df_formated[\"販売個数\"]):\n",
    "    array.append(int(value*sales_quantity))\n",
    "s = pd.Series(array,  index=df_formated.index, name='合計')\n",
    "df_formated = pd.concat([df_formated, s], axis=1)\n",
    "df_formated[\"販売価格\"]\n",
    "df_formated = df_formated.fillna(0)\n",
    "df_formated"
   ],
   "outputs": [],
   "metadata": {}
  },
  {
   "cell_type": "code",
   "execution_count": null,
   "source": [],
   "outputs": [],
   "metadata": {}
  },
  {
   "cell_type": "code",
   "execution_count": null,
   "source": [],
   "outputs": [],
   "metadata": {}
  },
  {
   "cell_type": "code",
   "execution_count": null,
   "source": [],
   "outputs": [],
   "metadata": {}
  },
  {
   "cell_type": "code",
   "execution_count": null,
   "source": [],
   "outputs": [],
   "metadata": {}
  },
  {
   "cell_type": "code",
   "execution_count": null,
   "source": [],
   "outputs": [],
   "metadata": {}
  },
  {
   "cell_type": "code",
   "execution_count": null,
   "source": [
    "date = '2021-08-11'\n",
    "keyword = dt.datetime.strptime(date, '%Y-%m-%d')\n",
    "\n",
    "document = Document()\n",
    "\n",
    "document.add_heading('売上日報', 0)\n",
    "\n",
    "# p = document.add_paragraph('A plain paragraph having some')\n",
    "# p.add_run('bold').bold = True\n",
    "# p.add_run(' and some ')\n",
    "# p.add_run('italic.').italic = True\n",
    "\n",
    "p = document.add_paragraph(str(keyword.date()))\n",
    "p.alignment = WD_ALIGN_PARAGRAPH.RIGHT\n",
    "\n",
    "p = document.add_paragraph('作成者  横田 秀喜')\n",
    "p.alignment = WD_ALIGN_PARAGRAPH.RIGHT\n",
    "\n",
    "# document.add_heading('Heading, level 1', level=1)\n",
    "# document.add_paragraph('Intense quote', style='Intense Quote')\n",
    "\n",
    "# document.add_paragraph(\n",
    "#     'first item in unordered list', style='List Bullet'\n",
    "# )\n",
    "# document.add_paragraph(\n",
    "#     'first item in ordered list', style='List Number'\n",
    "# )\n",
    "\n",
    "# document.add_picture('cat.jpg', width=Inches(1.25))\n",
    "\n",
    "# records = (\n",
    "#     ('DXトンカツ弁当', '650', '5', '3', str(5*3)),\n",
    "#     ('クーポン券', '-50', '', '16', str(-50*16))\n",
    "# )\n",
    "\n",
    "table = document.add_table(rows=1, cols=1)\n",
    "table.style = 'Table Grid'\n",
    "table.add_column(Mm(30))\n",
    "table.add_column(Mm(30))\n",
    "table.add_column(Mm(40))\n",
    "table.add_column(Mm(30))\n",
    "hdr_cells = table.rows[0].cells\n",
    "hdr_cells[0].text = '商品名'\n",
    "# hdr_cells[0].width = Inches(0.2)\n",
    "hdr_cells[1].text = '単価'\n",
    "hdr_cells[2].text = '数量'\n",
    "hdr_cells[3].text = '搬入個数'\n",
    "hdr_cells[4].text = '合計'\n",
    "for menu_name, value, delivered_quantity, saled_quantity, total in zip(df_formated[\"弁当名等\"],df_formated[\"販売価格\"],df_formated[\"販売個数\"],df_formated[\"搬入個数\"],df_formated[\"合計\"]):\n",
    "    row_cells = table.add_row().cells\n",
    "    row_cells[0].text = menu_name\n",
    "    row_cells[1].text = str(int(value))\n",
    "    row_cells[2].text = str(int(delivered_quantity))\n",
    "    row_cells[3].text = str(int(saled_quantity))\n",
    "    row_cells[4].text = str(int(total))\n",
    "\n",
    "document.add_page_break()\n",
    "\n",
    "document.save('../output/demo.docx')"
   ],
   "outputs": [],
   "metadata": {}
  },
  {
   "cell_type": "code",
   "execution_count": null,
   "source": [],
   "outputs": [],
   "metadata": {}
  },
  {
   "cell_type": "code",
   "execution_count": null,
   "source": [],
   "outputs": [],
   "metadata": {}
  },
  {
   "cell_type": "code",
   "execution_count": null,
   "source": [],
   "outputs": [],
   "metadata": {}
  }
 ],
 "metadata": {
  "orig_nbformat": 4,
  "language_info": {
   "name": "python",
   "version": "3.9.6",
   "mimetype": "text/x-python",
   "codemirror_mode": {
    "name": "ipython",
    "version": 3
   },
   "pygments_lexer": "ipython3",
   "nbconvert_exporter": "python",
   "file_extension": ".py"
  },
  "kernelspec": {
   "name": "python3",
   "display_name": "Python 3.9.6 64-bit"
  },
  "interpreter": {
   "hash": "aee8b7b246df8f9039afb4144a1f6fd8d2ca17a180786b69acc140d282b71a49"
  }
 },
 "nbformat": 4,
 "nbformat_minor": 2
}