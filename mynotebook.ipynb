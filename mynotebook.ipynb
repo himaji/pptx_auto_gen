{
 "cells": [
  {
   "cell_type": "code",
   "execution_count": 85,
   "source": [
    "import pandas as pd\n",
    "import numpy as np\n",
    "import openpyxl"
   ],
   "outputs": [],
   "metadata": {}
  },
  {
   "cell_type": "code",
   "execution_count": 86,
   "source": [
    "table_source = np.zeros([10,3])\n",
    "table_source[:,:] = np.nan\n",
    "dataframe = pd.DataFrame(table_source,columns=['商品名', '価格', '個数'])\n",
    "print(dataframe)"
   ],
   "outputs": [
    {
     "output_type": "stream",
     "name": "stdout",
     "text": [
      "   商品名  価格  個数\n",
      "0  NaN NaN NaN\n",
      "1  NaN NaN NaN\n",
      "2  NaN NaN NaN\n",
      "3  NaN NaN NaN\n",
      "4  NaN NaN NaN\n",
      "5  NaN NaN NaN\n",
      "6  NaN NaN NaN\n",
      "7  NaN NaN NaN\n",
      "8  NaN NaN NaN\n",
      "9  NaN NaN NaN\n"
     ]
    }
   ],
   "metadata": {}
  },
  {
   "cell_type": "code",
   "execution_count": 87,
   "source": [
    "menu_array = ['DXハンバーグ弁当', 'ハンバーグ弁当', '春巻き&ササミカツ弁当', 'ガパオライス', 'オムライス', 'サバカラ弁当', 'シャケカラ弁当', 'カラアゲ弁当']\n",
    "\n",
    "quantity_array = [5,4,5,3,2,4,2,5]\n",
    "for index, product_name in enumerate(menu_array):\n",
    "    dataframe.loc[index, '商品名'] = product_name\n",
    "for index, quantity in enumerate(quantity_array):\n",
    "    dataframe.loc[index, '個数'] = quantity\n",
    "dataframe"
   ],
   "outputs": [
    {
     "output_type": "execute_result",
     "data": {
      "text/plain": [
       "           商品名  価格   個数\n",
       "0    DXハンバーグ弁当 NaN  5.0\n",
       "1      ハンバーグ弁当 NaN  4.0\n",
       "2  春巻き&ササミカツ弁当 NaN  5.0\n",
       "3       ガパオライス NaN  3.0\n",
       "4        オムライス NaN  2.0\n",
       "5       サバカラ弁当 NaN  4.0\n",
       "6      シャケカラ弁当 NaN  2.0\n",
       "7       カラアゲ弁当 NaN  5.0\n",
       "8          NaN NaN  NaN\n",
       "9          NaN NaN  NaN"
      ],
      "text/html": [
       "<div>\n",
       "<style scoped>\n",
       "    .dataframe tbody tr th:only-of-type {\n",
       "        vertical-align: middle;\n",
       "    }\n",
       "\n",
       "    .dataframe tbody tr th {\n",
       "        vertical-align: top;\n",
       "    }\n",
       "\n",
       "    .dataframe thead th {\n",
       "        text-align: right;\n",
       "    }\n",
       "</style>\n",
       "<table border=\"1\" class=\"dataframe\">\n",
       "  <thead>\n",
       "    <tr style=\"text-align: right;\">\n",
       "      <th></th>\n",
       "      <th>商品名</th>\n",
       "      <th>価格</th>\n",
       "      <th>個数</th>\n",
       "    </tr>\n",
       "  </thead>\n",
       "  <tbody>\n",
       "    <tr>\n",
       "      <th>0</th>\n",
       "      <td>DXハンバーグ弁当</td>\n",
       "      <td>NaN</td>\n",
       "      <td>5.0</td>\n",
       "    </tr>\n",
       "    <tr>\n",
       "      <th>1</th>\n",
       "      <td>ハンバーグ弁当</td>\n",
       "      <td>NaN</td>\n",
       "      <td>4.0</td>\n",
       "    </tr>\n",
       "    <tr>\n",
       "      <th>2</th>\n",
       "      <td>春巻き&amp;ササミカツ弁当</td>\n",
       "      <td>NaN</td>\n",
       "      <td>5.0</td>\n",
       "    </tr>\n",
       "    <tr>\n",
       "      <th>3</th>\n",
       "      <td>ガパオライス</td>\n",
       "      <td>NaN</td>\n",
       "      <td>3.0</td>\n",
       "    </tr>\n",
       "    <tr>\n",
       "      <th>4</th>\n",
       "      <td>オムライス</td>\n",
       "      <td>NaN</td>\n",
       "      <td>2.0</td>\n",
       "    </tr>\n",
       "    <tr>\n",
       "      <th>5</th>\n",
       "      <td>サバカラ弁当</td>\n",
       "      <td>NaN</td>\n",
       "      <td>4.0</td>\n",
       "    </tr>\n",
       "    <tr>\n",
       "      <th>6</th>\n",
       "      <td>シャケカラ弁当</td>\n",
       "      <td>NaN</td>\n",
       "      <td>2.0</td>\n",
       "    </tr>\n",
       "    <tr>\n",
       "      <th>7</th>\n",
       "      <td>カラアゲ弁当</td>\n",
       "      <td>NaN</td>\n",
       "      <td>5.0</td>\n",
       "    </tr>\n",
       "    <tr>\n",
       "      <th>8</th>\n",
       "      <td>NaN</td>\n",
       "      <td>NaN</td>\n",
       "      <td>NaN</td>\n",
       "    </tr>\n",
       "    <tr>\n",
       "      <th>9</th>\n",
       "      <td>NaN</td>\n",
       "      <td>NaN</td>\n",
       "      <td>NaN</td>\n",
       "    </tr>\n",
       "  </tbody>\n",
       "</table>\n",
       "</div>"
      ]
     },
     "metadata": {},
     "execution_count": 87
    }
   ],
   "metadata": {}
  },
  {
   "cell_type": "code",
   "execution_count": 88,
   "source": [
    "#エクセルファイル指定\n",
    "workbook = openpyxl.load_workbook('calculator.xlsx')\n",
    "#ワークシート指定\n",
    "sheet = workbook['販売個数']\n",
    "#最大行\n",
    "maxRow = sheet.max_row + 1\n",
    "\n",
    "col_name1 = 6\n",
    "col_name2 = 7\n",
    "for i in reversed(range(1, maxRow)):\n",
    "    if sheet.cell(row=i, column=col_name1).value != None:\n",
    "        for product_name, quantity in zip(dataframe['商品名'], dataframe['個数']):\n",
    "            sheet.cell(i+1,col_name1,value = product_name)\n",
    "            sheet.cell(i+1,col_name2,value = quantity)\n",
    "            i = i + 1\n",
    "        break\n",
    "\n",
    "workbook.save('calculator.xlsx')"
   ],
   "outputs": [],
   "metadata": {}
  }
 ],
 "metadata": {
  "orig_nbformat": 4,
  "language_info": {
   "name": "python",
   "version": "3.9.6",
   "mimetype": "text/x-python",
   "codemirror_mode": {
    "name": "ipython",
    "version": 3
   },
   "pygments_lexer": "ipython3",
   "nbconvert_exporter": "python",
   "file_extension": ".py"
  },
  "kernelspec": {
   "name": "python3",
   "display_name": "Python 3.9.6 64-bit"
  },
  "interpreter": {
   "hash": "aee8b7b246df8f9039afb4144a1f6fd8d2ca17a180786b69acc140d282b71a49"
  }
 },
 "nbformat": 4,
 "nbformat_minor": 2
}