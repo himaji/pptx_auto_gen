{
 "cells": [
  {
   "cell_type": "code",
   "execution_count": null,
   "source": [
    "import pandas as pd\n",
    "import numpy as np\n",
    "import openpyxl"
   ],
   "outputs": [],
   "metadata": {}
  },
  {
   "cell_type": "code",
   "execution_count": null,
   "source": [
    "table_source = np.zeros([10,3])\n",
    "table_source[:,:] = np.nan\n",
    "dataframe = pd.DataFrame(table_source,columns=['商品名', '価格', '個数'])"
   ],
   "outputs": [],
   "metadata": {}
  },
  {
   "cell_type": "code",
   "execution_count": null,
   "source": [
    "menu_array = ['DXハンバーグ弁当', 'ハンバーグ弁当', '春巻き&ササミカツ弁当', 'ガパオライス', 'オムライス', 'サバカラ弁当', 'シャケカラ弁当', 'カラアゲ弁当']\n",
    "\n",
    "quantity_array = [5,4,5,3,2,4,2,5]\n",
    "for index, product_name in enumerate(menu_array):\n",
    "    dataframe.loc[index, '商品名'] = product_name\n",
    "for index, quantity in enumerate(quantity_array):\n",
    "    dataframe.loc[index, '個数'] = quantity\n",
    "dataframe"
   ],
   "outputs": [],
   "metadata": {}
  },
  {
   "cell_type": "code",
   "execution_count": null,
   "source": [
    "#エクセルファイル指定\n",
    "workbook = openpyxl.load_workbook('calculator.xlsx')\n",
    "#ワークシート指定\n",
    "sheet = workbook['販売個数']\n",
    "#最大行\n",
    "maxRow = sheet.max_row + 1\n",
    "\n",
    "col_name1 = 6\n",
    "col_name2 = 7\n",
    "for i in reversed(range(1, maxRow)):\n",
    "    if sheet.cell(row=i, column=col_name1).value != None:\n",
    "        for product_name, quantity in zip(dataframe['商品名'], dataframe['個数']):\n",
    "            sheet.cell(i+1,col_name1,value = product_name)\n",
    "            sheet.cell(i+1,col_name2,value = quantity)\n",
    "            i = i + 1\n",
    "        break\n",
    "\n",
    "workbook.save('calculator.xlsx')"
   ],
   "outputs": [],
   "metadata": {}
  }
 ],
 "metadata": {
  "orig_nbformat": 4,
  "language_info": {
   "name": "python",
   "version": "3.9.6",
   "mimetype": "text/x-python",
   "codemirror_mode": {
    "name": "ipython",
    "version": 3
   },
   "pygments_lexer": "ipython3",
   "nbconvert_exporter": "python",
   "file_extension": ".py"
  },
  "kernelspec": {
   "name": "python3",
   "display_name": "Python 3.9.6 64-bit"
  },
  "interpreter": {
   "hash": "aee8b7b246df8f9039afb4144a1f6fd8d2ca17a180786b69acc140d282b71a49"
  }
 },
 "nbformat": 4,
 "nbformat_minor": 2
}